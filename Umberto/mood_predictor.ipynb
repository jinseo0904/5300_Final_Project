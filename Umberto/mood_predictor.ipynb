{
 "cells": [
  {
   "cell_type": "code",
   "execution_count": 3,
   "metadata": {},
   "outputs": [],
   "source": [
    "import pandas as pd\n",
    "import numpy as np\n",
    "import matplotlib.pyplot as plt\n",
    "import seaborn as sns\n",
    "from sklearn.preprocessing import StandardScaler\n",
    "from sklearn.model_selection import TimeSeriesSplit\n",
    "from sklearn.ensemble import RandomForestRegressor\n",
    "from sklearn.metrics import mean_squared_error, r2_score\n",
    "import warnings\n",
    "import os\n",
    "warnings.filterwarnings('ignore')"
   ]
  },
  {
   "cell_type": "code",
   "execution_count": 10,
   "metadata": {},
   "outputs": [],
   "source": [
    "activity_cols = ['IN_VEHICLE', 'ON_BIKE', 'ON_FOOT', 'RUNNING', 'STILL', 'WALKING']\n",
    "mood_cols = ['Q1_SAD', 'Q2_HAPP', 'Q3_FATIG', 'Q4_EN', 'Q5_REL']"
   ]
  },
  {
   "cell_type": "code",
   "execution_count": 9,
   "metadata": {},
   "outputs": [],
   "source": [
    "feature_sets = {\n",
    "    'activity_based': [\n",
    "        'IN_VEHICLE_prop', 'ON_BIKE_prop', 'ON_FOOT_prop',\n",
    "        'RUNNING_prop', 'STILL_prop', 'WALKING_prop',\n",
    "        'IN_VEHICLE_rate', 'ON_BIKE_rate', 'ON_FOOT_rate',\n",
    "        'RUNNING_rate', 'STILL_rate', 'WALKING_rate'\n",
    "    ],\n",
    "    \n",
    "    'phone_usage': [\n",
    "        'daily_screen_hours', 'avg_session_duration',\n",
    "        'usage_per_day_hours', 'UNLOCK_EVENTS_NUM'\n",
    "    ],\n",
    "    \n",
    "    'physical_activity': [\n",
    "        'activity_intensity', 'activity_intensity_ma7',\n",
    "        'activity_intensity_std7'\n",
    "    ],\n",
    "    \n",
    "    'sleep': [\n",
    "        'sleep_hours', 'sleep_hours_ma7'\n",
    "    ],\n",
    "    \n",
    "    'temporal': [\n",
    "        'dayofweek', 'is_weekend', 'month'\n",
    "    ]\n",
    "}"
   ]
  },
  {
   "cell_type": "code",
   "execution_count": null,
   "metadata": {},
   "outputs": [
    {
     "name": "stdout",
     "output_type": "stream",
     "text": [
      "Processing afflictedrevenueepilepsy_daily_metrics.csv...\n"
     ]
    },
    {
     "ename": "AttributeError",
     "evalue": "'RangeIndex' object has no attribute 'dayofweek'",
     "output_type": "error",
     "traceback": [
      "\u001b[0;31m---------------------------------------------------------------------------\u001b[0m",
      "\u001b[0;31mAttributeError\u001b[0m                            Traceback (most recent call last)",
      "Cell \u001b[0;32mIn[14], line 25\u001b[0m\n\u001b[1;32m     22\u001b[0m     df[\u001b[38;5;124m'\u001b[39m\u001b[38;5;124mavg_session_duration\u001b[39m\u001b[38;5;124m'\u001b[39m] \u001b[38;5;241m=\u001b[39m df[\u001b[38;5;124m'\u001b[39m\u001b[38;5;124mUSAGE_DURATION_MIN\u001b[39m\u001b[38;5;124m'\u001b[39m] \u001b[38;5;241m/\u001b[39m df[\u001b[38;5;124m'\u001b[39m\u001b[38;5;124mUNLOCK_EVENTS_NUM\u001b[39m\u001b[38;5;124m'\u001b[39m]\n\u001b[1;32m     23\u001b[0m     df[\u001b[38;5;124m'\u001b[39m\u001b[38;5;124musage_per_day_hours\u001b[39m\u001b[38;5;124m'\u001b[39m] \u001b[38;5;241m=\u001b[39m df[\u001b[38;5;124m'\u001b[39m\u001b[38;5;124mUSAGE_DURATION_MIN\u001b[39m\u001b[38;5;124m'\u001b[39m] \u001b[38;5;241m/\u001b[39m \u001b[38;5;241m60\u001b[39m\n\u001b[0;32m---> 25\u001b[0m df[\u001b[38;5;124m'\u001b[39m\u001b[38;5;124mdayofweek\u001b[39m\u001b[38;5;124m'\u001b[39m] \u001b[38;5;241m=\u001b[39m \u001b[43mdf\u001b[49m\u001b[38;5;241;43m.\u001b[39;49m\u001b[43mindex\u001b[49m\u001b[38;5;241;43m.\u001b[39;49m\u001b[43mdayofweek\u001b[49m\n\u001b[1;32m     26\u001b[0m df[\u001b[38;5;124m'\u001b[39m\u001b[38;5;124mis_weekend\u001b[39m\u001b[38;5;124m'\u001b[39m] \u001b[38;5;241m=\u001b[39m df\u001b[38;5;241m.\u001b[39mindex\u001b[38;5;241m.\u001b[39mdayofweek\u001b[38;5;241m.\u001b[39misin([\u001b[38;5;241m5\u001b[39m, \u001b[38;5;241m6\u001b[39m])\u001b[38;5;241m.\u001b[39mastype(\u001b[38;5;28mint\u001b[39m)\n\u001b[1;32m     27\u001b[0m df[\u001b[38;5;124m'\u001b[39m\u001b[38;5;124mmonth\u001b[39m\u001b[38;5;124m'\u001b[39m] \u001b[38;5;241m=\u001b[39m df\u001b[38;5;241m.\u001b[39mindex\u001b[38;5;241m.\u001b[39mmonth\n",
      "\u001b[0;31mAttributeError\u001b[0m: 'RangeIndex' object has no attribute 'dayofweek'"
     ]
    }
   ],
   "source": [
    "subject_ids = sorted(os.listdir('data'))\n",
    "\n",
    "results = {}\n",
    "\n",
    "for subject_id in subject_ids:\n",
    "    print(f'Processing {subject_id}...')\n",
    "\n",
    "    # Load data\n",
    "    df = pd.read_csv(f'data/{subject_id}')\n",
    "\n",
    "    df['date'] = pd.to_datetime(df['date'])\n",
    "\n",
    "    df['total_activities'] = df[activity_cols].sum(axis=1)\n",
    "\n",
    "    for col in activity_cols:\n",
    "        df[f'{col}_prop'] = df[col] / df['total_activities']\n",
    "        \n",
    "    if 'SCREEN_ON_SECONDS' in df.columns:\n",
    "        df['daily_screen_hours'] = df['SCREEN_ON_SECONDS'] / 3600\n",
    "\n",
    "    if 'UNLOCK_EVENTS_NUM' in df.columns and 'USAGE_DURATION_MIN' in df.columns:\n",
    "        df['avg_session_duration'] = df['USAGE_DURATION_MIN'] / df['UNLOCK_EVENTS_NUM']\n",
    "        df['usage_per_day_hours'] = df['USAGE_DURATION_MIN'] / 60\n",
    "\n",
    "    df['dayofweek'] = df['date'].dt.weekday\n",
    "    df['is_weekend'] = df['dayofweek'].isin([5, 6]).astype(int)\n",
    "    df['month'] = df['date'].dt.month\n",
    "\n",
    "    if 'MIMS_SUM_WEAR' in df.columns:\n",
    "        # Create rolling statistics for physical activity\n",
    "        df['activity_intensity'] = df['MIMS_SUM_WEAR']\n",
    "        df['activity_intensity_ma7'] = df['MIMS_SUM_WEAR'].rolling(window=7).mean()\n",
    "        df['activity_intensity_std7'] = df['MIMS_SUM_WEAR'].rolling(window=7).std()\n",
    "    \n",
    "    # Sleep features\n",
    "    if 'SLEEP_MINUTES' in df.columns:\n",
    "        df['sleep_hours'] = df['SLEEP_MINUTES'] / 60\n",
    "        df['sleep_hours_ma7'] = df['sleep_hours'].rolling(window=7).mean()\n",
    "    \n",
    "    # Create lag features for mood variables\n",
    "    mood_cols = ['Q1_SAD', 'Q2_HAPP', 'Q3_FATIG', 'Q4_EN', 'Q5_REL']\n",
    "    for col in mood_cols:\n",
    "        if col in df.columns:\n",
    "            # Previous day\n",
    "            df[f'{col}_lag1'] = df[col].shift(1)\n",
    "            # Two days ago\n",
    "            df[f'{col}_lag2'] = df[col].shift(2)\n",
    "            # Weekly moving average\n",
    "            df[f'{col}_ma7'] = df[col].rolling(window=7).mean()\n",
    "            # Weekly standard deviation\n",
    "            df[f'{col}_std7'] = df[col].rolling(window=7).std()\n",
    "\n",
    "\n",
    "    print(\"\\nActivity Counts Summary:\")\n",
    "    print(df[activity_cols].describe())\n",
    "    \n",
    "    # Mood patterns\n",
    "    mood_cols = ['Q1_SAD', 'Q2_HAPP', 'Q3_FATIG', 'Q4_EN', 'Q5_REL']\n",
    "    print(\"\\nMood Statistics:\")\n",
    "    print(df[mood_cols].describe())\n",
    "    \n",
    "    # Correlations between activities and moods\n",
    "    activity_props = [col for col in df.columns if '_prop' in col]\n",
    "    correlations = df[mood_cols + activity_props].corr()\n",
    "    \n",
    "    plt.figure(figsize=(12, 8))\n",
    "    sns.heatmap(correlations.loc[mood_cols, activity_props], \n",
    "                annot=True, fmt='.2f', cmap='RdBu_r')\n",
    "    plt.title(f'Activity-Mood Correlations for {subject_id}')\n",
    "    plt.tight_layout()\n",
    "    plt.show()"
   ]
  }
 ],
 "metadata": {
  "kernelspec": {
   "display_name": "har",
   "language": "python",
   "name": "python3"
  },
  "language_info": {
   "codemirror_mode": {
    "name": "ipython",
    "version": 3
   },
   "file_extension": ".py",
   "mimetype": "text/x-python",
   "name": "python",
   "nbconvert_exporter": "python",
   "pygments_lexer": "ipython3",
   "version": "3.10.15"
  }
 },
 "nbformat": 4,
 "nbformat_minor": 2
}
